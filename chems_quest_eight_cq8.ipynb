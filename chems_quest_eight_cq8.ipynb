{
  "nbformat": 4,
  "nbformat_minor": 0,
  "metadata": {
    "colab": {
      "provenance": [],
      "include_colab_link": true
    },
    "kernelspec": {
      "name": "python3",
      "display_name": "Python 3"
    },
    "language_info": {
      "name": "python"
    }
  },
  "cells": [
    {
      "cell_type": "markdown",
      "metadata": {
        "id": "view-in-github",
        "colab_type": "text"
      },
      "source": [
        "<a href=\"https://colab.research.google.com/github/DiegoDelgado06/PROGCOM-B/blob/main/chems_quest_eight_cq8.ipynb\" target=\"_parent\"><img src=\"https://colab.research.google.com/assets/colab-badge.svg\" alt=\"Open In Colab\"/></a>"
      ]
    },
    {
      "cell_type": "markdown",
      "source": [
        "##Repositorio de Errores Simples en Python"
      ],
      "metadata": {
        "id": "JafOpNlI5EHL"
      }
    },
    {
      "cell_type": "markdown",
      "source": [
        "### 1. Error de sintaxis (SyntaxError)\n",
        " Cómo ocurre: Cuando escribimos mal un comando o falta un carácter."
      ],
      "metadata": {
        "id": "c3ATkdgi5KG5"
      }
    },
    {
      "cell_type": "code",
      "source": [
        " # Ejemplo con error\n",
        " print(\"Hola mundo\"\n",
        " # falta cerrar el paréntesis\n",
        " # Corrección\n",
        " print(\"Hola mundo\")"
      ],
      "metadata": {
        "colab": {
          "base_uri": "https://localhost:8080/",
          "height": 106
        },
        "id": "g2bTaTr25GLX",
        "outputId": "b5f98001-96d4-408c-d626-512cc72b57a4"
      },
      "execution_count": null,
      "outputs": [
        {
          "output_type": "error",
          "ename": "SyntaxError",
          "evalue": "'(' was never closed (ipython-input-2998525117.py, line 2)",
          "traceback": [
            "\u001b[0;36m  File \u001b[0;32m\"/tmp/ipython-input-2998525117.py\"\u001b[0;36m, line \u001b[0;32m2\u001b[0m\n\u001b[0;31m    print(\"Hola mundo\"\u001b[0m\n\u001b[0m         ^\u001b[0m\n\u001b[0;31mSyntaxError\u001b[0m\u001b[0;31m:\u001b[0m '(' was never closed\n"
          ]
        }
      ]
    },
    {
      "cell_type": "markdown",
      "source": [
        "### 2. IndentationError\n",
        "Cómo ocurre: Cuando olvidamos identar el código en un bloque.\n"
      ],
      "metadata": {
        "id": "nmLjd0o55iR5"
      }
    },
    {
      "cell_type": "code",
      "execution_count": null,
      "metadata": {
        "id": "MZ-N1yml4ypc"
      },
      "outputs": [],
      "source": [
        "# Ejemplo con error\n",
        " if True:\n",
        " print(\"Hola\")\n",
        " #falta indentación\n",
        " # Corrección\n",
        " if True:\n",
        " print(\"Hola\")\n",
        " #con indentación"
      ]
    },
    {
      "cell_type": "markdown",
      "source": [
        "###3. NameError\n",
        " Cómo ocurre: Cuando usamos una variable que no está de&nida."
      ],
      "metadata": {
        "id": "fO5e3rvg5u8A"
      }
    },
    {
      "cell_type": "code",
      "source": [
        "# Ejemplo con error\n",
        " print(x)\n",
        " # NameError: name 'x' is not defined\n",
        " # Corrección\n",
        " x = 5\n",
        " print(x)"
      ],
      "metadata": {
        "id": "bFyYU2Ks5wNk"
      },
      "execution_count": null,
      "outputs": []
    },
    {
      "cell_type": "markdown",
      "source": [
        "###4. TypeError sencillo\n",
        " Cómo ocurre: Cuando intentamos sumar un número con un texto."
      ],
      "metadata": {
        "id": "MzxmTm425ymH"
      }
    },
    {
      "cell_type": "code",
      "source": [
        "# Ejemplo con error\n",
        " edad = 18\n",
        " print(\"Tengo \" + edad + \" años\")\n",
        " # TypeError\n",
        " # Corrección: Convertir a string:\n",
        " print(\"Tengo \" + str(edad) + \" años\")"
      ],
      "metadata": {
        "id": "rfcMtRVq52ZJ"
      },
      "execution_count": null,
      "outputs": []
    },
    {
      "cell_type": "markdown",
      "source": [
        "###5. ZeroDivisionError\n",
        " Cómo ocurre: Cuando intentamos dividir entre cero."
      ],
      "metadata": {
        "id": "G8n7wEiM56TK"
      }
    },
    {
      "cell_type": "code",
      "source": [
        " # Ejemplo con error\n",
        " print(10 / 0)\n",
        " # ZeroDivisionError\n",
        " # Corrección\n",
        " print(\"No se puede dividir entre cero\")"
      ],
      "metadata": {
        "id": "YzeLQ7dO57YX"
      },
      "execution_count": null,
      "outputs": []
    },
    {
      "cell_type": "markdown",
      "source": [
        "### 6. IndexError\n",
        " Cómo ocurre: Este error aparece cuando intentamos acceder a una posición de\n",
        " una lista (o secuencia) que no existe."
      ],
      "metadata": {
        "id": "z5b4Jcre5_jZ"
      }
    },
    {
      "cell_type": "code",
      "source": [
        "# Ejemplo con error\n",
        " frutas = [\"manzana\", \"pera\", \"uva\"]\n",
        " print(frutas[5])\n",
        " # IndexError\n",
        " #corrección\n",
        " frutas = [\"manzana\", \"pera\", \"uva\"]\n",
        " # Forma 1: usar un índice válido\n",
        " print(frutas[2])\n",
        " # Imprime: uva\n",
        " # Forma 2: comprobar tamaño antes\n",
        " indice = 5\n",
        " if indice < len(frutas):\n",
        " print(frutas[indice])\n",
        " else:\n",
        " print(\"Ese índice no existe en la lista\")"
      ],
      "metadata": {
        "id": "fQiFLDvk6C9l"
      },
      "execution_count": null,
      "outputs": []
    },
    {
      "cell_type": "markdown",
      "source": [
        "###7. KeyError\n",
        "\n",
        "Cómo ocurre: Este error sucede cuando intentamos acceder a una clave que no existe dentro de un diccionario en Python."
      ],
      "metadata": {
        "id": "qN2Q1hla6CVj"
      }
    },
    {
      "cell_type": "code",
      "source": [
        "\n",
        "paises = {\"Colombia\": \"Bogotá\", \"Perú\": \"Lima\"}\n",
        "print(paises[\"Chile\"])\n",
        "\n",
        "print(paises.get(\"Chile\", \"No existe este país en el diccionario\"))"
      ],
      "metadata": {
        "id": "ODjXz11Z6M-H",
        "colab": {
          "base_uri": "https://localhost:8080/",
          "height": 211
        },
        "outputId": "894c8239-5319-4543-8054-6c6b10ed316d"
      },
      "execution_count": null,
      "outputs": [
        {
          "output_type": "error",
          "ename": "KeyError",
          "evalue": "'Chile'",
          "traceback": [
            "\u001b[0;31m---------------------------------------------------------------------------\u001b[0m",
            "\u001b[0;31mKeyError\u001b[0m                                  Traceback (most recent call last)",
            "\u001b[0;32m/tmp/ipython-input-206440146.py\u001b[0m in \u001b[0;36m<cell line: 0>\u001b[0;34m()\u001b[0m\n\u001b[1;32m      1\u001b[0m \u001b[0;31m# Ejemplo con error\u001b[0m\u001b[0;34m\u001b[0m\u001b[0;34m\u001b[0m\u001b[0m\n\u001b[1;32m      2\u001b[0m \u001b[0mpaises\u001b[0m \u001b[0;34m=\u001b[0m \u001b[0;34m{\u001b[0m\u001b[0;34m\"Colombia\"\u001b[0m\u001b[0;34m:\u001b[0m \u001b[0;34m\"Bogotá\"\u001b[0m\u001b[0;34m,\u001b[0m \u001b[0;34m\"Perú\"\u001b[0m\u001b[0;34m:\u001b[0m \u001b[0;34m\"Lima\"\u001b[0m\u001b[0;34m}\u001b[0m\u001b[0;34m\u001b[0m\u001b[0;34m\u001b[0m\u001b[0m\n\u001b[0;32m----> 3\u001b[0;31m \u001b[0mprint\u001b[0m\u001b[0;34m(\u001b[0m\u001b[0mpaises\u001b[0m\u001b[0;34m[\u001b[0m\u001b[0;34m\"Chile\"\u001b[0m\u001b[0;34m]\u001b[0m\u001b[0;34m)\u001b[0m\u001b[0;34m\u001b[0m\u001b[0;34m\u001b[0m\u001b[0m\n\u001b[0m\u001b[1;32m      4\u001b[0m \u001b[0;31m# KeyError: 'Chile'\u001b[0m\u001b[0;34m\u001b[0m\u001b[0;34m\u001b[0m\u001b[0m\n\u001b[1;32m      5\u001b[0m \u001b[0;34m\u001b[0m\u001b[0m\n",
            "\u001b[0;31mKeyError\u001b[0m: 'Chile'"
          ]
        }
      ]
    },
    {
      "cell_type": "markdown",
      "source": [
        "##8. AttributeError"
      ],
      "metadata": {
        "id": "qOIx6QW3iPLc"
      }
    },
    {
      "cell_type": "markdown",
      "source": [
        "Cómo ocurre: Sucede cuando intentas usar un método/atributo que no existe en el objeto."
      ],
      "metadata": {
        "id": "5DNG2eluiZEK"
      }
    },
    {
      "cell_type": "code",
      "source": [
        "texto = \"Hola mundo\"\n",
        "print(texto.push(\"!\"))\n"
      ],
      "metadata": {
        "colab": {
          "base_uri": "https://localhost:8080/",
          "height": 159
        },
        "id": "caIFsy2QiVaw",
        "outputId": "4c461072-0b24-436d-ff26-936e6c72a21a"
      },
      "execution_count": null,
      "outputs": [
        {
          "output_type": "error",
          "ename": "AttributeError",
          "evalue": "'str' object has no attribute 'push'",
          "traceback": [
            "\u001b[0;31m---------------------------------------------------------------------------\u001b[0m",
            "\u001b[0;31mAttributeError\u001b[0m                            Traceback (most recent call last)",
            "\u001b[0;32m/tmp/ipython-input-2827005911.py\u001b[0m in \u001b[0;36m<cell line: 0>\u001b[0;34m()\u001b[0m\n\u001b[1;32m      1\u001b[0m \u001b[0mtexto\u001b[0m \u001b[0;34m=\u001b[0m \u001b[0;34m\"Hola mundo\"\u001b[0m\u001b[0;34m\u001b[0m\u001b[0;34m\u001b[0m\u001b[0m\n\u001b[0;32m----> 2\u001b[0;31m \u001b[0mprint\u001b[0m\u001b[0;34m(\u001b[0m\u001b[0mtexto\u001b[0m\u001b[0;34m.\u001b[0m\u001b[0mpush\u001b[0m\u001b[0;34m(\u001b[0m\u001b[0;34m\"!\"\u001b[0m\u001b[0;34m)\u001b[0m\u001b[0;34m)\u001b[0m   \u001b[0;31m# .push no existe para strings\u001b[0m\u001b[0;34m\u001b[0m\u001b[0;34m\u001b[0m\u001b[0m\n\u001b[0m",
            "\u001b[0;31mAttributeError\u001b[0m: 'str' object has no attribute 'push'"
          ]
        }
      ]
    },
    {
      "cell_type": "markdown",
      "source": [
        "Solución:"
      ],
      "metadata": {
        "id": "z8bJc47pixi2"
      }
    },
    {
      "cell_type": "code",
      "source": [
        "texto = \"Hola mundo\"\n",
        "print(texto + \"!\")\n"
      ],
      "metadata": {
        "colab": {
          "base_uri": "https://localhost:8080/"
        },
        "id": "4h0tMooliqM_",
        "outputId": "99a606b3-4c8e-4718-fa2a-09b29d2b7460"
      },
      "execution_count": null,
      "outputs": [
        {
          "output_type": "stream",
          "name": "stdout",
          "text": [
            "Hola mundo!\n"
          ]
        }
      ]
    },
    {
      "cell_type": "markdown",
      "source": [
        "###9. ValueError"
      ],
      "metadata": {
        "id": "QAXrltdZct0I"
      }
    },
    {
      "cell_type": "markdown",
      "source": [
        "Cómo ocurre: Este error aparece cuando una función recibe un argumento con el tipo correcto, pero con un valor inapropiado."
      ],
      "metadata": {
        "id": "GGLXxaH6dA1I"
      }
    },
    {
      "cell_type": "code",
      "source": [
        "numero = int(\"hola\")\n"
      ],
      "metadata": {
        "colab": {
          "base_uri": "https://localhost:8080/",
          "height": 141
        },
        "id": "Y8SddYkAdGxv",
        "outputId": "6329de4f-3560-4cc7-fa9a-8b7b8c27d52d"
      },
      "execution_count": null,
      "outputs": [
        {
          "output_type": "error",
          "ename": "ValueError",
          "evalue": "invalid literal for int() with base 10: 'hola'",
          "traceback": [
            "\u001b[0;31m---------------------------------------------------------------------------\u001b[0m",
            "\u001b[0;31mValueError\u001b[0m                                Traceback (most recent call last)",
            "\u001b[0;32m/tmp/ipython-input-2326860500.py\u001b[0m in \u001b[0;36m<cell line: 0>\u001b[0;34m()\u001b[0m\n\u001b[0;32m----> 1\u001b[0;31m \u001b[0mnumero\u001b[0m \u001b[0;34m=\u001b[0m \u001b[0mint\u001b[0m\u001b[0;34m(\u001b[0m\u001b[0;34m\"hola\"\u001b[0m\u001b[0;34m)\u001b[0m\u001b[0;34m\u001b[0m\u001b[0;34m\u001b[0m\u001b[0m\n\u001b[0m",
            "\u001b[0;31mValueError\u001b[0m: invalid literal for int() with base 10: 'hola'"
          ]
        }
      ]
    },
    {
      "cell_type": "markdown",
      "source": [
        "Correcion"
      ],
      "metadata": {
        "id": "3FR9PbIvdWeP"
      }
    },
    {
      "cell_type": "code",
      "source": [
        "texto = \"123\"\n",
        "if texto.isdigit():\n",
        "    numero = int(texto)\n",
        "    print(numero)\n",
        "else:\n",
        "    print(\"No es un número válido\")\n"
      ],
      "metadata": {
        "colab": {
          "base_uri": "https://localhost:8080/"
        },
        "id": "nYlNbrtzdaOI",
        "outputId": "5868cf29-4103-492c-cc79-ecd7e15f2694"
      },
      "execution_count": null,
      "outputs": [
        {
          "output_type": "stream",
          "name": "stdout",
          "text": [
            "123\n"
          ]
        }
      ]
    },
    {
      "cell_type": "markdown",
      "source": [
        "###10. ModuleNotFoundError"
      ],
      "metadata": {
        "id": "ankM9Eh4fuc2"
      }
    },
    {
      "cell_type": "markdown",
      "source": [
        "Cómo ocurre: Sucede cuando intentas importar un módulo que no está instalado o no existe."
      ],
      "metadata": {
        "id": "nXD8I13nf2LF"
      }
    },
    {
      "cell_type": "code",
      "source": [
        "import nump\n"
      ],
      "metadata": {
        "colab": {
          "base_uri": "https://localhost:8080/",
          "height": 314
        },
        "id": "Bz6jmzYCgHj8",
        "outputId": "5a2a9e99-cc87-4a66-d26f-20b5f0b62b8a"
      },
      "execution_count": null,
      "outputs": [
        {
          "output_type": "error",
          "ename": "ModuleNotFoundError",
          "evalue": "No module named 'nump'",
          "traceback": [
            "\u001b[0;31m---------------------------------------------------------------------------\u001b[0m",
            "\u001b[0;31mModuleNotFoundError\u001b[0m                       Traceback (most recent call last)",
            "\u001b[0;32m/tmp/ipython-input-3456029827.py\u001b[0m in \u001b[0;36m<cell line: 0>\u001b[0;34m()\u001b[0m\n\u001b[0;32m----> 1\u001b[0;31m \u001b[0;32mimport\u001b[0m \u001b[0mnump\u001b[0m\u001b[0;34m\u001b[0m\u001b[0;34m\u001b[0m\u001b[0m\n\u001b[0m",
            "\u001b[0;31mModuleNotFoundError\u001b[0m: No module named 'nump'",
            "",
            "\u001b[0;31m---------------------------------------------------------------------------\u001b[0;32m\nNOTE: If your import is failing due to a missing package, you can\nmanually install dependencies using either !pip or !apt.\n\nTo view examples of installing some common dependencies, click the\n\"Open Examples\" button below.\n\u001b[0;31m---------------------------------------------------------------------------\u001b[0m\n"
          ],
          "errorDetails": {
            "actions": [
              {
                "action": "open_url",
                "actionText": "Open Examples",
                "url": "/notebooks/snippets/importing_libraries.ipynb"
              }
            ]
          }
        }
      ]
    },
    {
      "cell_type": "markdown",
      "source": [
        "Correcion"
      ],
      "metadata": {
        "id": "HYNrxa4WgQ9k"
      }
    },
    {
      "cell_type": "code",
      "source": [
        "import numpy\n"
      ],
      "metadata": {
        "id": "Fje8I3LPgSQk"
      },
      "execution_count": null,
      "outputs": []
    },
    {
      "cell_type": "markdown",
      "source": [
        "###11. ValueError en desempaquetado"
      ],
      "metadata": {
        "id": "hLuBUG_XgWfV"
      }
    },
    {
      "cell_type": "markdown",
      "source": [
        "Cómo ocurre: Cuando intentas desempaquetar (unpack) más o menos valores de los que hay en una secuencia."
      ],
      "metadata": {
        "id": "UgyDbsbvgbEk"
      }
    },
    {
      "cell_type": "code",
      "source": [
        "a, b = [1, 2, 3]\n"
      ],
      "metadata": {
        "colab": {
          "base_uri": "https://localhost:8080/",
          "height": 141
        },
        "id": "FLcdnvRHgdRs",
        "outputId": "d1ba37f8-eabd-4418-8f28-06539748bd8c"
      },
      "execution_count": null,
      "outputs": [
        {
          "output_type": "error",
          "ename": "ValueError",
          "evalue": "too many values to unpack (expected 2)",
          "traceback": [
            "\u001b[0;31m---------------------------------------------------------------------------\u001b[0m",
            "\u001b[0;31mValueError\u001b[0m                                Traceback (most recent call last)",
            "\u001b[0;32m/tmp/ipython-input-3377819526.py\u001b[0m in \u001b[0;36m<cell line: 0>\u001b[0;34m()\u001b[0m\n\u001b[0;32m----> 1\u001b[0;31m \u001b[0ma\u001b[0m\u001b[0;34m,\u001b[0m \u001b[0mb\u001b[0m \u001b[0;34m=\u001b[0m \u001b[0;34m[\u001b[0m\u001b[0;36m1\u001b[0m\u001b[0;34m,\u001b[0m \u001b[0;36m2\u001b[0m\u001b[0;34m,\u001b[0m \u001b[0;36m3\u001b[0m\u001b[0;34m]\u001b[0m\u001b[0;34m\u001b[0m\u001b[0;34m\u001b[0m\u001b[0m\n\u001b[0m",
            "\u001b[0;31mValueError\u001b[0m: too many values to unpack (expected 2)"
          ]
        }
      ]
    },
    {
      "cell_type": "markdown",
      "source": [
        "Correcion"
      ],
      "metadata": {
        "id": "z_pDfvlqghw0"
      }
    },
    {
      "cell_type": "code",
      "source": [
        "a, b, c = [1, 2, 3]\n"
      ],
      "metadata": {
        "id": "K5RYgdxcghDk"
      },
      "execution_count": null,
      "outputs": []
    },
    {
      "cell_type": "markdown",
      "source": [
        "###12. FileNotFoundError"
      ],
      "metadata": {
        "id": "ff2eHeA1gqcU"
      }
    },
    {
      "cell_type": "markdown",
      "source": [
        "Cómo ocurre: Cuando intentas abrir un archivo que no existe en la ruta especificada."
      ],
      "metadata": {
        "id": "veILzBGNgyP9"
      }
    },
    {
      "cell_type": "code",
      "source": [
        "with open(\"archivo_inexistente.txt\", \"r\") as archivo:\n",
        "    contenido = archivo.read()\n"
      ],
      "metadata": {
        "colab": {
          "base_uri": "https://localhost:8080/",
          "height": 159
        },
        "id": "cCMQSWd0gy9E",
        "outputId": "a1c70f9f-5a26-483b-eee8-730f2b560bec"
      },
      "execution_count": null,
      "outputs": [
        {
          "output_type": "error",
          "ename": "FileNotFoundError",
          "evalue": "[Errno 2] No such file or directory: 'archivo_inexistente.txt'",
          "traceback": [
            "\u001b[0;31m---------------------------------------------------------------------------\u001b[0m",
            "\u001b[0;31mFileNotFoundError\u001b[0m                         Traceback (most recent call last)",
            "\u001b[0;32m/tmp/ipython-input-539725040.py\u001b[0m in \u001b[0;36m<cell line: 0>\u001b[0;34m()\u001b[0m\n\u001b[0;32m----> 1\u001b[0;31m \u001b[0;32mwith\u001b[0m \u001b[0mopen\u001b[0m\u001b[0;34m(\u001b[0m\u001b[0;34m\"archivo_inexistente.txt\"\u001b[0m\u001b[0;34m,\u001b[0m \u001b[0;34m\"r\"\u001b[0m\u001b[0;34m)\u001b[0m \u001b[0;32mas\u001b[0m \u001b[0marchivo\u001b[0m\u001b[0;34m:\u001b[0m\u001b[0;34m\u001b[0m\u001b[0;34m\u001b[0m\u001b[0m\n\u001b[0m\u001b[1;32m      2\u001b[0m     \u001b[0mcontenido\u001b[0m \u001b[0;34m=\u001b[0m \u001b[0marchivo\u001b[0m\u001b[0;34m.\u001b[0m\u001b[0mread\u001b[0m\u001b[0;34m(\u001b[0m\u001b[0;34m)\u001b[0m\u001b[0;34m\u001b[0m\u001b[0;34m\u001b[0m\u001b[0m\n",
            "\u001b[0;31mFileNotFoundError\u001b[0m: [Errno 2] No such file or directory: 'archivo_inexistente.txt'"
          ]
        }
      ]
    },
    {
      "cell_type": "markdown",
      "source": [
        "Correcion"
      ],
      "metadata": {
        "id": "8V7y7ezOg1F0"
      }
    },
    {
      "cell_type": "code",
      "source": [
        "import os\n",
        "\n",
        "ruta = \"archivo_inexistente.txt\"\n",
        "if os.path.exists(ruta):\n",
        "    with open(ruta, \"r\") as archivo:\n",
        "        contenido = archivo.read()\n",
        "else:\n",
        "    print(\"El archivo no existe.\")\n"
      ],
      "metadata": {
        "colab": {
          "base_uri": "https://localhost:8080/"
        },
        "id": "HpUcBX_3g2NE",
        "outputId": "63b2d70f-c195-4973-d936-0101941a60d3"
      },
      "execution_count": null,
      "outputs": [
        {
          "output_type": "stream",
          "name": "stdout",
          "text": [
            "El archivo no existe.\n"
          ]
        }
      ]
    },
    {
      "cell_type": "markdown",
      "source": [
        "###13. ImportError"
      ],
      "metadata": {
        "id": "B3a7crIAg8qc"
      }
    },
    {
      "cell_type": "markdown",
      "source": [
        "Cómo ocurre: Cuando el módulo existe, pero estás tratando de importar algo que no se encuentra dentro de él."
      ],
      "metadata": {
        "id": "WDy_xM1EhDDM"
      }
    },
    {
      "cell_type": "code",
      "source": [
        "from math import square_root\n"
      ],
      "metadata": {
        "colab": {
          "base_uri": "https://localhost:8080/",
          "height": 314
        },
        "id": "_4StoI8nhDw0",
        "outputId": "b9ebe134-16f1-4ec2-8afb-a55590fb39e9"
      },
      "execution_count": null,
      "outputs": [
        {
          "output_type": "error",
          "ename": "ImportError",
          "evalue": "cannot import name 'square_root' from 'math' (unknown location)",
          "traceback": [
            "\u001b[0;31m---------------------------------------------------------------------------\u001b[0m",
            "\u001b[0;31mImportError\u001b[0m                               Traceback (most recent call last)",
            "\u001b[0;32m/tmp/ipython-input-2773190859.py\u001b[0m in \u001b[0;36m<cell line: 0>\u001b[0;34m()\u001b[0m\n\u001b[0;32m----> 1\u001b[0;31m \u001b[0;32mfrom\u001b[0m \u001b[0mmath\u001b[0m \u001b[0;32mimport\u001b[0m \u001b[0msquare_root\u001b[0m\u001b[0;34m\u001b[0m\u001b[0;34m\u001b[0m\u001b[0m\n\u001b[0m",
            "\u001b[0;31mImportError\u001b[0m: cannot import name 'square_root' from 'math' (unknown location)",
            "",
            "\u001b[0;31m---------------------------------------------------------------------------\u001b[0;32m\nNOTE: If your import is failing due to a missing package, you can\nmanually install dependencies using either !pip or !apt.\n\nTo view examples of installing some common dependencies, click the\n\"Open Examples\" button below.\n\u001b[0;31m---------------------------------------------------------------------------\u001b[0m\n"
          ],
          "errorDetails": {
            "actions": [
              {
                "action": "open_url",
                "actionText": "Open Examples",
                "url": "/notebooks/snippets/importing_libraries.ipynb"
              }
            ]
          }
        }
      ]
    },
    {
      "cell_type": "markdown",
      "source": [
        "Correcion"
      ],
      "metadata": {
        "id": "VFwmO3zahWAU"
      }
    },
    {
      "cell_type": "code",
      "source": [
        "from math import sqrt\n",
        "print(sqrt(9))\n"
      ],
      "metadata": {
        "colab": {
          "base_uri": "https://localhost:8080/"
        },
        "id": "Xh9H__ADhYXs",
        "outputId": "3da6e1ad-5def-470a-f531-7b21387058b3"
      },
      "execution_count": null,
      "outputs": [
        {
          "output_type": "stream",
          "name": "stdout",
          "text": [
            "3.0\n"
          ]
        }
      ]
    }
  ]
}