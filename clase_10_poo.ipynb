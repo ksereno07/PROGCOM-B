{
  "nbformat": 4,
  "nbformat_minor": 0,
  "metadata": {
    "colab": {
      "provenance": [],
      "authorship_tag": "ABX9TyMKNAp9wopqyMfIykfjhG02",
      "include_colab_link": true
    },
    "kernelspec": {
      "name": "python3",
      "display_name": "Python 3"
    },
    "language_info": {
      "name": "python"
    }
  },
  "cells": [
    {
      "cell_type": "markdown",
      "metadata": {
        "id": "view-in-github",
        "colab_type": "text"
      },
      "source": [
        "<a href=\"https://colab.research.google.com/github/ksereno07/PROGCOM-B/blob/main/clase_10_poo.ipynb\" target=\"_parent\"><img src=\"https://colab.research.google.com/assets/colab-badge.svg\" alt=\"Open In Colab\"/></a>"
      ]
    },
    {
      "cell_type": "code",
      "execution_count": 27,
      "metadata": {
        "id": "-IzfDFX8zf8r"
      },
      "outputs": [],
      "source": [
        "class casa:\n",
        "  def __init__(self, color, num_habitaciones, num_baños, tiene_patio, tiene_parqueadero):\n",
        "   \"\"\"\n",
        "   costructor de la clase casa\n",
        "   argumentos:\n",
        "   color(str): definir el color de la casa\n",
        "   nume_habitaciones(int): número de habitaciones\n",
        "   num_baños(int): número de baños\n",
        "   tiene_patio(bool): si la clase posee patio\n",
        "   tiene_parqueadero(bool): si la casa tiene parqueadero\n",
        "   \"\"\"\n",
        "   self.color=color\n",
        "   self.num_habitaciones=num_habitaciones\n",
        "   self.num_baños=num_baños\n",
        "   self.tiene_patio=tiene_patio\n",
        "   self.tiene_parqueadero=tiene_parqueadero\n",
        "\n",
        "  def describir(self):\n",
        "   \"\"\"\n",
        "   metodo para escrivir la casa\n",
        "   \"\"\"\n",
        "   descripcion=f\"la casa es de color {self.color}\"\n",
        "\n",
        "   if self.tiene_patio:\n",
        "    descripcion+=\"\\nLa casa posee un patio\"\n",
        "   if self.tiene_parqueadero:\n",
        "    descripcion+=\"\\nLa casa posee parqueadero\"\n",
        "   return descripcion"
      ]
    },
    {
      "cell_type": "code",
      "source": [
        "mi_casa=casa(\"rojo con blaco\", 5, 2, True,True)\n",
        "type(mi_casa)"
      ],
      "metadata": {
        "colab": {
          "base_uri": "https://localhost:8080/",
          "height": 104
        },
        "id": "tX6mjkQo2mCf",
        "outputId": "050ebe58-6a2e-4823-94d0-9fdb7d3ee0f8"
      },
      "execution_count": 31,
      "outputs": [
        {
          "output_type": "execute_result",
          "data": {
            "text/plain": [
              "__main__.casa"
            ],
            "text/html": [
              "<div style=\"max-width:800px; border: 1px solid var(--colab-border-color);\"><style>\n",
              "      pre.function-repr-contents {\n",
              "        overflow-x: auto;\n",
              "        padding: 8px 12px;\n",
              "        max-height: 500px;\n",
              "      }\n",
              "\n",
              "      pre.function-repr-contents.function-repr-contents-collapsed {\n",
              "        cursor: pointer;\n",
              "        max-height: 100px;\n",
              "      }\n",
              "    </style>\n",
              "    <pre style=\"white-space: initial; background:\n",
              "         var(--colab-secondary-surface-color); padding: 8px 12px;\n",
              "         border-bottom: 1px solid var(--colab-border-color);\"><b>casa</b><br/>def __init__(color, num_habitaciones, num_baños, tiene_patio, tiene_parqueadero)</pre><pre class=\"function-repr-contents function-repr-contents-collapsed\" style=\"\"><a class=\"filepath\" style=\"display:none\" href=\"#\"></a>&lt;no docstring&gt;</pre></div>"
            ]
          },
          "metadata": {},
          "execution_count": 31
        }
      ]
    },
    {
      "cell_type": "code",
      "source": [
        "mi_casa.describir()"
      ],
      "metadata": {
        "colab": {
          "base_uri": "https://localhost:8080/",
          "height": 35
        },
        "id": "55p6lFUs5a-F",
        "outputId": "3d1d7020-7c63-479b-e708-bb756de6be80"
      },
      "execution_count": 32,
      "outputs": [
        {
          "output_type": "execute_result",
          "data": {
            "text/plain": [
              "'la casa es de color rojo con blaco\\nLa casa posee un patio\\nLa casa posee parqueadero'"
            ],
            "application/vnd.google.colaboratory.intrinsic+json": {
              "type": "string"
            }
          },
          "metadata": {},
          "execution_count": 32
        }
      ]
    },
    {
      "cell_type": "code",
      "source": [
        "class Floristeria(casa):#herencia\n",
        "  def __init__(self, color, num_habitaciones, num_baños, tiene_patio, tiene_parqueadero,nombre,flores):\n",
        "   \"\"\"\n",
        "   costructor de la clase floristeria\n",
        "   argumentos:\n",
        "   color(str): definir el color de la floristeria\n",
        "   nume_habitaciones(int): número de habitaciones\n",
        "   num_baños(int): número de baños\n",
        "   tiene_patio(bool): si la clase posee patio\n",
        "   tiene_parqueadero(bool): si la casa tiene parqueadero\n",
        "   nombre(str): nombre de la floristeria\n",
        "   flores(lista): lista de flores\n",
        "   \"\"\"\n",
        "   super().__init__(color,num_habitaciones, num_baños, tiene_patio, tiene_parqueadero)\n",
        "   self.nombre=nombre\n",
        "   self.flores=flores\n",
        "def describir_floristeria(self):\n",
        "  descripcion_casa=super().describir()\n",
        "  descripcion_floristeria=f\"\""
      ],
      "metadata": {
        "id": "4f6qzUFd6dsd"
      },
      "execution_count": 33,
      "outputs": []
    },
    {
      "cell_type": "code",
      "source": [
        "mi_floristeria=Floristeria(\"amarillo\",1,1,False,False,\"floristeria\",[\"tulipan,rosas, sakura\"])"
      ],
      "metadata": {
        "colab": {
          "base_uri": "https://localhost:8080/",
          "height": 141
        },
        "id": "K9VXHE5H77MT",
        "outputId": "7bc4246f-edc1-4167-b39d-d93a32b2cc8d"
      },
      "execution_count": 34,
      "outputs": [
        {
          "output_type": "error",
          "ename": "TypeError",
          "evalue": "Floristeria.__init__() takes 6 positional arguments but 8 were given",
          "traceback": [
            "\u001b[0;31m---------------------------------------------------------------------------\u001b[0m",
            "\u001b[0;31mTypeError\u001b[0m                                 Traceback (most recent call last)",
            "\u001b[0;32m/tmp/ipython-input-3400313257.py\u001b[0m in \u001b[0;36m<cell line: 0>\u001b[0;34m()\u001b[0m\n\u001b[0;32m----> 1\u001b[0;31m \u001b[0mmi_floristeria\u001b[0m\u001b[0;34m=\u001b[0m\u001b[0mFloristeria\u001b[0m\u001b[0;34m(\u001b[0m\u001b[0;34m\"amarillo\"\u001b[0m\u001b[0;34m,\u001b[0m\u001b[0;36m1\u001b[0m\u001b[0;34m,\u001b[0m\u001b[0;36m1\u001b[0m\u001b[0;34m,\u001b[0m\u001b[0;32mFalse\u001b[0m\u001b[0;34m,\u001b[0m\u001b[0;32mFalse\u001b[0m\u001b[0;34m,\u001b[0m\u001b[0;34m\"floristeria\"\u001b[0m\u001b[0;34m,\u001b[0m\u001b[0;34m[\u001b[0m\u001b[0;34m\"tulipan,rosas, sakura\"\u001b[0m\u001b[0;34m]\u001b[0m\u001b[0;34m)\u001b[0m\u001b[0;34m\u001b[0m\u001b[0;34m\u001b[0m\u001b[0m\n\u001b[0m",
            "\u001b[0;31mTypeError\u001b[0m: Floristeria.__init__() takes 6 positional arguments but 8 were given"
          ]
        }
      ]
    }
  ]
}