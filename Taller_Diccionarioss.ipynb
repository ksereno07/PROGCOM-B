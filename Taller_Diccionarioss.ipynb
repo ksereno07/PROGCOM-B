{
  "nbformat": 4,
  "nbformat_minor": 0,
  "metadata": {
    "colab": {
      "provenance": [],
      "authorship_tag": "ABX9TyPX8svfELhNYZsrijZcSe9X",
      "include_colab_link": true
    },
    "kernelspec": {
      "name": "python3",
      "display_name": "Python 3"
    },
    "language_info": {
      "name": "python"
    }
  },
  "cells": [
    {
      "cell_type": "markdown",
      "metadata": {
        "id": "view-in-github",
        "colab_type": "text"
      },
      "source": [
        "<a href=\"https://colab.research.google.com/github/ksereno07/PROGCOM-B/blob/main/Taller_Diccionarioss.ipynb\" target=\"_parent\"><img src=\"https://colab.research.google.com/assets/colab-badge.svg\" alt=\"Open In Colab\"/></a>"
      ]
    },
    {
      "cell_type": "markdown",
      "source": [
        "##Diccionarios\n",
        "Estructuras de datos que almacenan valores\n",
        "\n",
        "Sintexis\n",
        "\n",
        "```\n",
        "nombre_Diccionarios={ \"llave\":valor}\n",
        "```\n",
        "* llave: **SIEMPRE** tiene que se alfanumérica\n",
        "* valor: Cualquier tipo de dato\n"
      ],
      "metadata": {
        "id": "R5nDy3mUar4t"
      }
    },
    {
      "cell_type": "code",
      "execution_count": null,
      "metadata": {
        "id": "9OPgaGzdXPN7"
      },
      "outputs": [],
      "source": [
        "liga_justicia={\"superheroes\":[\"Batman\",\"superman\", \"WonderWoman\"],\n",
        "               \"identidades\":[\"Burce wayne\",\"Clark kent\",\"Diana princes\"]}"
      ]
    },
    {
      "cell_type": "code",
      "source": [
        "type(liga_justicia)"
      ],
      "metadata": {
        "colab": {
          "base_uri": "https://localhost:8080/"
        },
        "id": "HOtphRr4cI6D",
        "outputId": "4f98c9dd-1b6b-4df0-d505-06d231cab452"
      },
      "execution_count": null,
      "outputs": [
        {
          "output_type": "execute_result",
          "data": {
            "text/plain": [
              "dict"
            ]
          },
          "metadata": {},
          "execution_count": 21
        }
      ]
    },
    {
      "cell_type": "code",
      "source": [
        "liga_justicia"
      ],
      "metadata": {
        "colab": {
          "base_uri": "https://localhost:8080/"
        },
        "id": "hb77luotcPTy",
        "outputId": "5602f015-6481-4fa1-9e6a-5dc7087b72d6"
      },
      "execution_count": null,
      "outputs": [
        {
          "output_type": "execute_result",
          "data": {
            "text/plain": [
              "{'superheroes': ['Batman', 'superman', 'WonderWoman'],\n",
              " 'identidades': ['Burce wayne', 'Clark kent', 'Diana princes']}"
            ]
          },
          "metadata": {},
          "execution_count": 22
        }
      ]
    },
    {
      "cell_type": "markdown",
      "source": [
        "Los diccionarios **NO** tienen idexación"
      ],
      "metadata": {
        "id": "-RZSsXeCdNS6"
      }
    },
    {
      "cell_type": "code",
      "source": [
        "liga_justicia[\"superheroes\"]"
      ],
      "metadata": {
        "colab": {
          "base_uri": "https://localhost:8080/"
        },
        "id": "ydJ9IxKbdbVS",
        "outputId": "6d9cccc8-b181-492d-d8ff-79b515ae51ca"
      },
      "execution_count": null,
      "outputs": [
        {
          "output_type": "execute_result",
          "data": {
            "text/plain": [
              "['Batman', 'superman', 'WonderWoman']"
            ]
          },
          "metadata": {},
          "execution_count": 23
        }
      ]
    },
    {
      "cell_type": "code",
      "source": [
        "liga_justicia[\"identidades\"][2]"
      ],
      "metadata": {
        "colab": {
          "base_uri": "https://localhost:8080/",
          "height": 36
        },
        "id": "M2t7Jz_Qd_Ha",
        "outputId": "adaa199f-b159-4641-d10d-db00287034b6"
      },
      "execution_count": null,
      "outputs": [
        {
          "output_type": "execute_result",
          "data": {
            "text/plain": [
              "'Diana princes'"
            ],
            "application/vnd.google.colaboratory.intrinsic+json": {
              "type": "string"
            }
          },
          "metadata": {},
          "execution_count": 24
        }
      ]
    },
    {
      "cell_type": "markdown",
      "source": [
        "#Fuinciones asociadas a los diccionarios\n",
        "1. Clean():Elimina todos los elementos del dicionario\n",
        "\n",
        "Sintaxis\n",
        "\n",
        "```\n",
        "diccionario.clear()\n",
        "\n",
        "```\n",
        "2. pop(): solo sale los nombres del diccionario que hayas elejido\n",
        "\n",
        "```\n",
        "Diccionario.pop()\n",
        "```\n",
        "\n",
        "3. copy():copia el diccionario para pegarlo a uno nuevo y sean identicos sin necesidad que los dos sean uno solo\n",
        "\n",
        "\n",
        "```\n",
        "# Diccionario.coptu()\n",
        "```\n",
        "\n",
        "4. fromkeys():genera una lista de llaves con cada uno un valor o nombre\n",
        "\n",
        "\n",
        "```\n",
        "Diccionario.fromkeys(keys1,keys2)\n",
        "```\n",
        "\n",
        "\n",
        "5. get():agarra una parte de los elementos del diccionario que elijamos\n",
        "\n",
        "\n",
        "```\n",
        "Diccionario.get(key1)\n",
        "```\n",
        "6. items: noes muestra lo que esta dentro del diccionario\n",
        "\n",
        "\n",
        "```\n",
        "Diccionario:itmes()\n",
        "```\n",
        "7. keys():nos muestra las llaves que esten en el diccionario\n",
        "\n",
        "\n",
        "```\n",
        "Diccionario.keys()\n",
        "```\n",
        "8. popitems: devuelve el último par clave insertado en un diccionario como una tupla y elimina la entrada\n",
        "\n",
        "\n",
        "\n",
        "```\n",
        "Diccionario.popitmes()\n",
        "```\n",
        "\n",
        "9. setdefault():nos permite agregar otra llave al diccionario\n",
        "\n",
        "\n",
        "```\n",
        "Diccionario.setdefault()\n",
        "```\n",
        "\n",
        "10. values(): devuelve una lista con todos los values o valores del diccionario\n",
        "\n",
        "\n",
        "```\n",
        "Diccionario.values()\n",
        "```\n",
        "\n",
        "\n"
      ],
      "metadata": {
        "id": "_k65Iy3rewDR"
      }
    },
    {
      "cell_type": "code",
      "source": [
        "liga_justicia.clear()"
      ],
      "metadata": {
        "id": "NUklL63DejhB"
      },
      "execution_count": null,
      "outputs": []
    },
    {
      "cell_type": "code",
      "source": [
        "liga_justicia"
      ],
      "metadata": {
        "colab": {
          "base_uri": "https://localhost:8080/"
        },
        "id": "yi4oIw0Teq8p",
        "outputId": "097ebfbe-ef7a-48ab-aa00-5e1e3728ac32"
      },
      "execution_count": null,
      "outputs": [
        {
          "output_type": "execute_result",
          "data": {
            "text/plain": [
              "{'superheroes': ['Batman', 'superman', 'WonderWoman'],\n",
              " 'identidades': ['Burce wayne', 'Clark kent', 'Diana princes']}"
            ]
          },
          "metadata": {},
          "execution_count": 54
        }
      ]
    },
    {
      "cell_type": "code",
      "source": [
        "liga_justicia.pop(\"superheroes\")"
      ],
      "metadata": {
        "colab": {
          "base_uri": "https://localhost:8080/"
        },
        "id": "v5J2i6MlhVF_",
        "outputId": "ab7ae76e-f844-411f-85ef-35ae4b97f083"
      },
      "execution_count": null,
      "outputs": [
        {
          "output_type": "execute_result",
          "data": {
            "text/plain": [
              "['Batman', 'superman', 'WonderWoman']"
            ]
          },
          "metadata": {},
          "execution_count": 56
        }
      ]
    },
    {
      "cell_type": "code",
      "source": [
        "liga_justicia"
      ],
      "metadata": {
        "colab": {
          "base_uri": "https://localhost:8080/"
        },
        "id": "1SNoMwFLhkif",
        "outputId": "99731095-983f-489b-ecc1-ff16b5b35d86"
      },
      "execution_count": null,
      "outputs": [
        {
          "output_type": "execute_result",
          "data": {
            "text/plain": [
              "{'identidades': ['Burce wayne', 'Clark kent', 'Diana princes']}"
            ]
          },
          "metadata": {},
          "execution_count": 57
        }
      ]
    },
    {
      "cell_type": "code",
      "source": [
        "justicia_joven={}\n",
        "justicia_joven=liga_justicia.copy()\n",
        "justicia_joven"
      ],
      "metadata": {
        "colab": {
          "base_uri": "https://localhost:8080/"
        },
        "id": "BtqiFOgFhwtH",
        "outputId": "cad8ccdd-6e52-449f-b672-d5f1d27f9641"
      },
      "execution_count": null,
      "outputs": [
        {
          "output_type": "execute_result",
          "data": {
            "text/plain": [
              "{'superheroes': ['Batman', 'superman', 'WonderWoman'],\n",
              " 'identidades': ['Burce wayne', 'Clark kent', 'Diana princes']}"
            ]
          },
          "metadata": {},
          "execution_count": 66
        }
      ]
    },
    {
      "cell_type": "code",
      "source": [
        "marvel=[\"heroes\",\"villanos\",\"sidekicks\"]\n",
        "nombres=[[\"spiderman\",\"capitán américa\",\"pantera negra\"],[\"venon\",\"siniestro\",\"lord mamu\"],[\"ni idea\"]]"
      ],
      "metadata": {
        "id": "ir_f4KOxjU4H"
      },
      "execution_count": null,
      "outputs": []
    },
    {
      "cell_type": "code",
      "source": [
        "marvelitas=dict.fromkeys(marvel,nombres)"
      ],
      "metadata": {
        "id": "E5zmebjHklkt"
      },
      "execution_count": null,
      "outputs": []
    },
    {
      "cell_type": "code",
      "source": [
        "marvelitas"
      ],
      "metadata": {
        "colab": {
          "base_uri": "https://localhost:8080/"
        },
        "id": "Hp2UKwz_kvbU",
        "outputId": "d31f6d01-3863-4099-f270-405f1caf2f90"
      },
      "execution_count": null,
      "outputs": [
        {
          "output_type": "execute_result",
          "data": {
            "text/plain": [
              "{'heroes': [['spiderman', 'capitán américa', 'pantera negra'],\n",
              "  ['venon', 'siniestro', 'lord mamu'],\n",
              "  ['ni idea']],\n",
              " 'villanos': [['spiderman', 'capitán américa', 'pantera negra'],\n",
              "  ['venon', 'siniestro', 'lord mamu'],\n",
              "  ['ni idea']],\n",
              " 'sidekicks': [['spiderman', 'capitán américa', 'pantera negra'],\n",
              "  ['venon', 'siniestro', 'lord mamu'],\n",
              "  ['ni idea']]}"
            ]
          },
          "metadata": {},
          "execution_count": 77
        }
      ]
    },
    {
      "cell_type": "code",
      "source": [
        "liga_justicia.get(\"superheroes\")"
      ],
      "metadata": {
        "colab": {
          "base_uri": "https://localhost:8080/"
        },
        "id": "itjyA9yHk5sM",
        "outputId": "a4770ba3-54a3-4572-c8fa-872b93bf349d"
      },
      "execution_count": null,
      "outputs": [
        {
          "output_type": "execute_result",
          "data": {
            "text/plain": [
              "['Batman', 'superman', 'WonderWoman']"
            ]
          },
          "metadata": {},
          "execution_count": 38
        }
      ]
    },
    {
      "cell_type": "code",
      "source": [
        "liga_justicia.items()"
      ],
      "metadata": {
        "colab": {
          "base_uri": "https://localhost:8080/"
        },
        "id": "jpnRfr9wlMRd",
        "outputId": "c87151f1-f7fe-4cac-b3c8-20f7c44cc475"
      },
      "execution_count": null,
      "outputs": [
        {
          "output_type": "execute_result",
          "data": {
            "text/plain": [
              "dict_items([('superheroes', ['Batman', 'superman', 'WonderWoman']), ('identidades', ['Burce wayne', 'Clark kent', 'Diana princes'])])"
            ]
          },
          "metadata": {},
          "execution_count": 81
        }
      ]
    },
    {
      "cell_type": "code",
      "source": [
        "liga_justicia.keys()"
      ],
      "metadata": {
        "colab": {
          "base_uri": "https://localhost:8080/"
        },
        "id": "PIsyrzmslcx8",
        "outputId": "293093f5-5982-49cc-8c49-8876f6e23679"
      },
      "execution_count": null,
      "outputs": [
        {
          "output_type": "execute_result",
          "data": {
            "text/plain": [
              "dict_keys(['superheroes', 'identidades'])"
            ]
          },
          "metadata": {},
          "execution_count": 82
        }
      ]
    },
    {
      "cell_type": "code",
      "source": [
        "liga_justicia.popitem()"
      ],
      "metadata": {
        "colab": {
          "base_uri": "https://localhost:8080/"
        },
        "id": "F6mBF3lQlg6U",
        "outputId": "e697f290-73f4-4a72-d943-00e84abb8eb5"
      },
      "execution_count": null,
      "outputs": [
        {
          "output_type": "execute_result",
          "data": {
            "text/plain": [
              "('superheroes', ['Batman', 'superman', 'WonderWoman'])"
            ]
          },
          "metadata": {},
          "execution_count": 4
        }
      ]
    },
    {
      "cell_type": "code",
      "source": [
        "liga_justicia.setdefault(\"villanos\")"
      ],
      "metadata": {
        "id": "NHqmVRm6h6B4"
      },
      "execution_count": null,
      "outputs": []
    },
    {
      "cell_type": "code",
      "source": [
        "liga_justicia"
      ],
      "metadata": {
        "colab": {
          "base_uri": "https://localhost:8080/"
        },
        "id": "uQda68WxnkSL",
        "outputId": "9071cbae-c984-4dc1-f5e3-f81966cb6cb6"
      },
      "execution_count": null,
      "outputs": [
        {
          "output_type": "execute_result",
          "data": {
            "text/plain": [
              "{'superheroes': ['Batman', 'superman', 'WonderWoman'],\n",
              " 'identidades': ['Burce wayne', 'Clark kent', 'Diana princes'],\n",
              " 'superheores': None,\n",
              " 'villanos': None}"
            ]
          },
          "metadata": {},
          "execution_count": 43
        }
      ]
    },
    {
      "cell_type": "code",
      "source": [
        "liga_justicia.values()"
      ],
      "metadata": {
        "colab": {
          "base_uri": "https://localhost:8080/"
        },
        "id": "6Ez59G95oWli",
        "outputId": "cca9584d-727a-4f9b-cf40-59c2b519d759"
      },
      "execution_count": null,
      "outputs": [
        {
          "output_type": "execute_result",
          "data": {
            "text/plain": [
              "dict_values([['Batman', 'superman', 'WonderWoman'], ['Burce wayne', 'Clark kent', 'Diana princes'], None])"
            ]
          },
          "metadata": {},
          "execution_count": 37
        }
      ]
    },
    {
      "cell_type": "code",
      "source": [
        "liga_justicia.update"
      ],
      "metadata": {
        "id": "7jHLOnXvsOGn",
        "outputId": "54866e12-972d-419e-d1b4-42eecef89e63",
        "colab": {
          "base_uri": "https://localhost:8080/"
        }
      },
      "execution_count": null,
      "outputs": [
        {
          "output_type": "execute_result",
          "data": {
            "text/plain": [
              "<function dict.update>"
            ]
          },
          "metadata": {},
          "execution_count": 44
        }
      ]
    },
    {
      "cell_type": "code",
      "source": [],
      "metadata": {
        "id": "_EwpS4BWsOCf"
      },
      "execution_count": null,
      "outputs": []
    }
  ]
}