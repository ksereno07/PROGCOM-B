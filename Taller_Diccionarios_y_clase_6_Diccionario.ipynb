{
  "nbformat": 4,
  "nbformat_minor": 0,
  "metadata": {
    "colab": {
      "provenance": [],
      "authorship_tag": "ABX9TyMc1sGdGJ3ZfXw3a230nU0C",
      "include_colab_link": true
    },
    "kernelspec": {
      "name": "python3",
      "display_name": "Python 3"
    },
    "language_info": {
      "name": "python"
    }
  },
  "cells": [
    {
      "cell_type": "markdown",
      "metadata": {
        "id": "view-in-github",
        "colab_type": "text"
      },
      "source": [
        "<a href=\"https://colab.research.google.com/github/ksereno07/PROGCOM-B/blob/main/Taller_Diccionarios_y_clase_6_Diccionario.ipynb\" target=\"_parent\"><img src=\"https://colab.research.google.com/assets/colab-badge.svg\" alt=\"Open In Colab\"/></a>"
      ]
    },
    {
      "cell_type": "markdown",
      "source": [
        "##Crea una función que reciba un diccionario de productos (clave: nombre, valor: precio) y retorne el total."
      ],
      "metadata": {
        "id": "4tYnfGWh39sV"
      }
    },
    {
      "cell_type": "code",
      "metadata": {
        "id": "b792d7f0"
      },
      "source": [
        "def calcular_total(productos):\n",
        "  total = 0\n",
        "  for precio in productos.values():\n",
        "    total += precio\n",
        "  return total"
      ],
      "execution_count": null,
      "outputs": []
    },
    {
      "cell_type": "code",
      "metadata": {
        "colab": {
          "base_uri": "https://localhost:8080/"
        },
        "id": "2689a2ea",
        "outputId": "9c30adfe-4f49-4ad8-c191-fba128e4c9a3"
      },
      "source": [
        "productos = {\"manzanas\": 1.5, \"plátanos\": 0.75, \"naranjas\": 2.0}\n",
        "total_productos = calcular_total(productos)\n",
        "print(f\"El total de los productos es: {total_productos}\")"
      ],
      "execution_count": null,
      "outputs": [
        {
          "output_type": "stream",
          "name": "stdout",
          "text": [
            "El total de los productos es: 4.25\n"
          ]
        }
      ]
    },
    {
      "cell_type": "markdown",
      "source": [
        "##Crea una función que reciba un diccionario de estudiantes (clave: nombre, valor: nota) y retorne el promedio."
      ],
      "metadata": {
        "id": "xnBx-Osm9A0o"
      }
    },
    {
      "cell_type": "code",
      "source": [
        "def promedio_estudiantes(estudiantes):\n",
        "  total_notas = 0\n",
        "  num_estudiantes = len(estudiantes)\n",
        "  if num_estudiantes == 0:\n",
        "    return 0\n",
        "\n",
        "  for nota in estudiantes.values():\n",
        "    total_notas += nota\n",
        "\n",
        "  promedio = total_notas / num_estudiantes\n",
        "  return promedio"
      ],
      "metadata": {
        "id": "cc4w2MFB9Nfg"
      },
      "execution_count": null,
      "outputs": []
    },
    {
      "cell_type": "code",
      "source": [
        "estudiantes_notas = {\"Julian\": 85, \"Marta\": 92, \"Alex\": 78}\n",
        "promedio_calculado = promedio_estudiantes(estudiantes_notas)\n",
        "print(f\"El promedio de los estudiantes es: {promedio_calculado}\")"
      ],
      "metadata": {
        "colab": {
          "base_uri": "https://localhost:8080/"
        },
        "id": "6lzwXHnp9983",
        "outputId": "81e1adfa-31c3-458a-876b-5ca3babfd0a7"
      },
      "execution_count": null,
      "outputs": [
        {
          "output_type": "stream",
          "name": "stdout",
          "text": [
            "El promedio de los estudiantes es: 85.0\n"
          ]
        }
      ]
    },
    {
      "cell_type": "markdown",
      "source": [
        "##Crea una función que reciba una lista de nombres y retorne cuántos nombres comienzan con vocal."
      ],
      "metadata": {
        "id": "tGGTcarVEQ97"
      }
    },
    {
      "cell_type": "code",
      "metadata": {
        "id": "663e910e"
      },
      "source": [
        "def contarnombresconvocal(nombres):\n",
        "  count = 0\n",
        "  vocales = \"aeiouAEIOU\"\n",
        "  for nombre in nombres:\n",
        "    if nombre and nombre[0] in vocales:\n",
        "      count += 1\n",
        "  return count"
      ],
      "execution_count": null,
      "outputs": []
    },
    {
      "cell_type": "code",
      "metadata": {
        "colab": {
          "base_uri": "https://localhost:8080/"
        },
        "id": "910c086e",
        "outputId": "829defbe-f7e7-4631-f975-400d4135f0e7"
      },
      "source": [
        "# Example usage:\n",
        "lista_nombres = [\"Alan\", \"stecv\", \"Elena\", \"keiner\", \"Eva\", \"Oscar\"]\n",
        "cantidad_con_vocal = contarnombresconvocal(lista_nombres)\n",
        "print(f\"La cantidad de nombres que comienzan con vocal es: {cantidad_con_vocal}\")"
      ],
      "execution_count": null,
      "outputs": [
        {
          "output_type": "stream",
          "name": "stdout",
          "text": [
            "La cantidad de nombres que comienzan con vocal es: 4\n"
          ]
        }
      ]
    },
    {
      "cell_type": "markdown",
      "source": [
        "## Crea una función que reciba un diccionario de empleados (clave: nombre, valor: lista de horas trabajadas) y retorne el total de horas por empleado."
      ],
      "metadata": {
        "id": "aaR5FUYcE0Ha"
      }
    },
    {
      "cell_type": "code",
      "metadata": {
        "id": "5b200b40"
      },
      "source": [
        "def calcular_horas_totales_empleados_simple(empleados):\n",
        "  THPE = {}\n",
        "  for nombre in empleados:\n",
        "    TH = sum(empleados[nombre])\n",
        "    THPE[nombre] = TH\n",
        "  return THPE"
      ],
      "execution_count": null,
      "outputs": []
    },
    {
      "cell_type": "code",
      "metadata": {
        "colab": {
          "base_uri": "https://localhost:8080/"
        },
        "id": "e0c2b214",
        "outputId": "582428a9-5fa9-478f-d756-b5858b1b7f0e"
      },
      "source": [
        "empleados_horas_simple = {\n",
        "    \"Pedro\": [10, 12, 8],\n",
        "    \"Laura\": [15, 10, 11]\n",
        "}\n",
        "HTS = calcular_horas_totales_empleados_simple(empleados_horas_simple)\n",
        "print(\"Total de horas trabajadas :\")\n",
        "for nombre, total_horas in HTS.items():\n",
        "  print(f\"{nombre}: {total_horas} horas\")"
      ],
      "execution_count": null,
      "outputs": [
        {
          "output_type": "stream",
          "name": "stdout",
          "text": [
            "Total de horas trabajadas :\n",
            "Pedro: 30 horas\n",
            "Laura: 36 horas\n"
          ]
        }
      ]
    }
  ]
}