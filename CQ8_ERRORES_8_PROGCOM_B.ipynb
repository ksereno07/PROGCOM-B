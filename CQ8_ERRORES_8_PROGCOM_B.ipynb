{
  "nbformat": 4,
  "nbformat_minor": 0,
  "metadata": {
    "colab": {
      "provenance": [],
      "include_colab_link": true
    },
    "kernelspec": {
      "name": "python3",
      "display_name": "Python 3"
    },
    "language_info": {
      "name": "python"
    }
  },
  "cells": [
    {
      "cell_type": "markdown",
      "metadata": {
        "id": "view-in-github",
        "colab_type": "text"
      },
      "source": [
        "<a href=\"https://colab.research.google.com/github/hames08/PROGCOM-B/blob/main/CQ8_ERRORES_8_PROGCOM_B.ipynb\" target=\"_parent\"><img src=\"https://colab.research.google.com/assets/colab-badge.svg\" alt=\"Open In Colab\"/></a>"
      ]
    },
    {
      "cell_type": "markdown",
      "source": [
        "##Repositorio de Errores Simples en Python"
      ],
      "metadata": {
        "id": "JafOpNlI5EHL"
      }
    },
    {
      "cell_type": "markdown",
      "source": [
        "### 1. Error de sintaxis (SyntaxError)\n",
        " Cómo ocurre: Cuando escribimos mal un comando o falta un carácter."
      ],
      "metadata": {
        "id": "c3ATkdgi5KG5"
      }
    },
    {
      "cell_type": "code",
      "source": [
        " # Ejemplo con error\n",
        " print(\"Hola mundo\"\n",
        " # falta cerrar el paréntesis\n",
        " # Corrección\n",
        " print(\"Hola mundo\")"
      ],
      "metadata": {
        "colab": {
          "base_uri": "https://localhost:8080/",
          "height": 106
        },
        "id": "g2bTaTr25GLX",
        "outputId": "b5f98001-96d4-408c-d626-512cc72b57a4"
      },
      "execution_count": null,
      "outputs": [
        {
          "output_type": "error",
          "ename": "SyntaxError",
          "evalue": "'(' was never closed (ipython-input-2998525117.py, line 2)",
          "traceback": [
            "\u001b[0;36m  File \u001b[0;32m\"/tmp/ipython-input-2998525117.py\"\u001b[0;36m, line \u001b[0;32m2\u001b[0m\n\u001b[0;31m    print(\"Hola mundo\"\u001b[0m\n\u001b[0m         ^\u001b[0m\n\u001b[0;31mSyntaxError\u001b[0m\u001b[0;31m:\u001b[0m '(' was never closed\n"
          ]
        }
      ]
    },
    {
      "cell_type": "markdown",
      "source": [
        "### 2. IndentationError\n",
        "Cómo ocurre: Cuando olvidamos identar el código en un bloque.\n"
      ],
      "metadata": {
        "id": "nmLjd0o55iR5"
      }
    },
    {
      "cell_type": "code",
      "execution_count": null,
      "metadata": {
        "id": "MZ-N1yml4ypc"
      },
      "outputs": [],
      "source": [
        "# Ejemplo con error\n",
        " if True:\n",
        " print(\"Hola\")\n",
        " #falta indentación\n",
        " # Corrección\n",
        " if True:\n",
        " print(\"Hola\")\n",
        " #con indentación"
      ]
    },
    {
      "cell_type": "markdown",
      "source": [
        "###3. NameError\n",
        " Cómo ocurre: Cuando usamos una variable que no está de&nida."
      ],
      "metadata": {
        "id": "fO5e3rvg5u8A"
      }
    },
    {
      "cell_type": "code",
      "source": [
        "# Ejemplo con error\n",
        " print(x)\n",
        " # NameError: name 'x' is not defined\n",
        " # Corrección\n",
        " x = 5\n",
        " print(x)"
      ],
      "metadata": {
        "id": "bFyYU2Ks5wNk"
      },
      "execution_count": null,
      "outputs": []
    },
    {
      "cell_type": "markdown",
      "source": [
        "###4. TypeError sencillo\n",
        " Cómo ocurre: Cuando intentamos sumar un número con un texto."
      ],
      "metadata": {
        "id": "MzxmTm425ymH"
      }
    },
    {
      "cell_type": "code",
      "source": [
        "# Ejemplo con error\n",
        " edad = 18\n",
        " print(\"Tengo \" + edad + \" años\")\n",
        " # TypeError\n",
        " # Corrección: Convertir a string:\n",
        " print(\"Tengo \" + str(edad) + \" años\")"
      ],
      "metadata": {
        "id": "rfcMtRVq52ZJ"
      },
      "execution_count": null,
      "outputs": []
    },
    {
      "cell_type": "markdown",
      "source": [
        "###5. ZeroDivisionError\n",
        " Cómo ocurre: Cuando intentamos dividir entre cero."
      ],
      "metadata": {
        "id": "G8n7wEiM56TK"
      }
    },
    {
      "cell_type": "code",
      "source": [
        " # Ejemplo con error\n",
        " print(10 / 0)\n",
        " # ZeroDivisionError\n",
        " # Corrección\n",
        " print(\"No se puede dividir entre cero\")"
      ],
      "metadata": {
        "id": "YzeLQ7dO57YX"
      },
      "execution_count": null,
      "outputs": []
    },
    {
      "cell_type": "markdown",
      "source": [
        "### 6. IndexError\n",
        " Cómo ocurre: Este error aparece cuando intentamos acceder a una posición de\n",
        " una lista (o secuencia) que no existe."
      ],
      "metadata": {
        "id": "z5b4Jcre5_jZ"
      }
    },
    {
      "cell_type": "code",
      "source": [
        "# Ejemplo con error\n",
        " frutas = [\"manzana\", \"pera\", \"uva\"]\n",
        " print(frutas[5])\n",
        " # IndexError\n",
        " #corrección\n",
        " frutas = [\"manzana\", \"pera\", \"uva\"]\n",
        " # Forma 1: usar un índice válido\n",
        " print(frutas[2])\n",
        " # Imprime: uva\n",
        " # Forma 2: comprobar tamaño antes\n",
        " indice = 5\n",
        " if indice < len(frutas):\n",
        " print(frutas[indice])\n",
        " else:\n",
        " print(\"Ese índice no existe en la lista\")"
      ],
      "metadata": {
        "id": "fQiFLDvk6C9l"
      },
      "execution_count": null,
      "outputs": []
    },
    {
      "cell_type": "markdown",
      "source": [
        "###7. KeyError\n",
        "\n",
        "Cómo ocurre: Este error sucede cuando intentamos acceder a una clave que no existe dentro de un diccionario en Python."
      ],
      "metadata": {
        "id": "qN2Q1hla6CVj"
      }
    },
    {
      "cell_type": "code",
      "source": [
        "# Ejemplo con error\n",
        "paises = {\"Colombia\": \"Bogotá\", \"Perú\": \"Lima\"}\n",
        "print(paises[\"Chile\"])\n",
        "# KeyError: 'Chile'\n",
        "\n",
        "# Corrección: usar get() o validar la clave\n",
        "print(paises.get(\"Chile\", \"No existe este país en el diccionario\"))"
      ],
      "metadata": {
        "id": "ODjXz11Z6M-H",
        "colab": {
          "base_uri": "https://localhost:8080/",
          "height": 211
        },
        "outputId": "894c8239-5319-4543-8054-6c6b10ed316d"
      },
      "execution_count": 2,
      "outputs": [
        {
          "output_type": "error",
          "ename": "KeyError",
          "evalue": "'Chile'",
          "traceback": [
            "\u001b[0;31m---------------------------------------------------------------------------\u001b[0m",
            "\u001b[0;31mKeyError\u001b[0m                                  Traceback (most recent call last)",
            "\u001b[0;32m/tmp/ipython-input-206440146.py\u001b[0m in \u001b[0;36m<cell line: 0>\u001b[0;34m()\u001b[0m\n\u001b[1;32m      1\u001b[0m \u001b[0;31m# Ejemplo con error\u001b[0m\u001b[0;34m\u001b[0m\u001b[0;34m\u001b[0m\u001b[0m\n\u001b[1;32m      2\u001b[0m \u001b[0mpaises\u001b[0m \u001b[0;34m=\u001b[0m \u001b[0;34m{\u001b[0m\u001b[0;34m\"Colombia\"\u001b[0m\u001b[0;34m:\u001b[0m \u001b[0;34m\"Bogotá\"\u001b[0m\u001b[0;34m,\u001b[0m \u001b[0;34m\"Perú\"\u001b[0m\u001b[0;34m:\u001b[0m \u001b[0;34m\"Lima\"\u001b[0m\u001b[0;34m}\u001b[0m\u001b[0;34m\u001b[0m\u001b[0;34m\u001b[0m\u001b[0m\n\u001b[0;32m----> 3\u001b[0;31m \u001b[0mprint\u001b[0m\u001b[0;34m(\u001b[0m\u001b[0mpaises\u001b[0m\u001b[0;34m[\u001b[0m\u001b[0;34m\"Chile\"\u001b[0m\u001b[0;34m]\u001b[0m\u001b[0;34m)\u001b[0m\u001b[0;34m\u001b[0m\u001b[0;34m\u001b[0m\u001b[0m\n\u001b[0m\u001b[1;32m      4\u001b[0m \u001b[0;31m# KeyError: 'Chile'\u001b[0m\u001b[0;34m\u001b[0m\u001b[0;34m\u001b[0m\u001b[0m\n\u001b[1;32m      5\u001b[0m \u001b[0;34m\u001b[0m\u001b[0m\n",
            "\u001b[0;31mKeyError\u001b[0m: 'Chile'"
          ]
        }
      ]
    },
    {
      "cell_type": "markdown",
      "source": [
        "##8. AttributeError"
      ],
      "metadata": {
        "id": "qOIx6QW3iPLc"
      }
    },
    {
      "cell_type": "markdown",
      "source": [
        "Cómo ocurre: Sucede cuando intentas usar un método/atributo que no existe en el objeto."
      ],
      "metadata": {
        "id": "5DNG2eluiZEK"
      }
    },
    {
      "cell_type": "code",
      "source": [
        "texto = \"Hola mundo\"\n",
        "print(texto.push(\"!\"))   # .push no existe para strings\n"
      ],
      "metadata": {
        "colab": {
          "base_uri": "https://localhost:8080/",
          "height": 159
        },
        "id": "caIFsy2QiVaw",
        "outputId": "4c461072-0b24-436d-ff26-936e6c72a21a"
      },
      "execution_count": 1,
      "outputs": [
        {
          "output_type": "error",
          "ename": "AttributeError",
          "evalue": "'str' object has no attribute 'push'",
          "traceback": [
            "\u001b[0;31m---------------------------------------------------------------------------\u001b[0m",
            "\u001b[0;31mAttributeError\u001b[0m                            Traceback (most recent call last)",
            "\u001b[0;32m/tmp/ipython-input-2827005911.py\u001b[0m in \u001b[0;36m<cell line: 0>\u001b[0;34m()\u001b[0m\n\u001b[1;32m      1\u001b[0m \u001b[0mtexto\u001b[0m \u001b[0;34m=\u001b[0m \u001b[0;34m\"Hola mundo\"\u001b[0m\u001b[0;34m\u001b[0m\u001b[0;34m\u001b[0m\u001b[0m\n\u001b[0;32m----> 2\u001b[0;31m \u001b[0mprint\u001b[0m\u001b[0;34m(\u001b[0m\u001b[0mtexto\u001b[0m\u001b[0;34m.\u001b[0m\u001b[0mpush\u001b[0m\u001b[0;34m(\u001b[0m\u001b[0;34m\"!\"\u001b[0m\u001b[0;34m)\u001b[0m\u001b[0;34m)\u001b[0m   \u001b[0;31m# .push no existe para strings\u001b[0m\u001b[0;34m\u001b[0m\u001b[0;34m\u001b[0m\u001b[0m\n\u001b[0m",
            "\u001b[0;31mAttributeError\u001b[0m: 'str' object has no attribute 'push'"
          ]
        }
      ]
    },
    {
      "cell_type": "markdown",
      "source": [
        "Solución:"
      ],
      "metadata": {
        "id": "z8bJc47pixi2"
      }
    },
    {
      "cell_type": "code",
      "source": [
        "texto = \"Hola mundo\"\n",
        "print(texto + \"!\")       # concatenación correcta\n"
      ],
      "metadata": {
        "colab": {
          "base_uri": "https://localhost:8080/"
        },
        "id": "4h0tMooliqM_",
        "outputId": "99a606b3-4c8e-4718-fa2a-09b29d2b7460"
      },
      "execution_count": 3,
      "outputs": [
        {
          "output_type": "stream",
          "name": "stdout",
          "text": [
            "Hola mundo!\n"
          ]
        }
      ]
    }
  ]
}