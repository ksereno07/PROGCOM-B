{
  "nbformat": 4,
  "nbformat_minor": 0,
  "metadata": {
    "colab": {
      "provenance": [],
      "authorship_tag": "ABX9TyOtSdfwYdb/nx5M7ZAPludK",
      "include_colab_link": true
    },
    "kernelspec": {
      "name": "python3",
      "display_name": "Python 3"
    },
    "language_info": {
      "name": "python"
    }
  },
  "cells": [
    {
      "cell_type": "markdown",
      "metadata": {
        "id": "view-in-github",
        "colab_type": "text"
      },
      "source": [
        "<a href=\"https://colab.research.google.com/github/ksereno07/PROGCOM-B/blob/main/clase_2_estructura_de_repeticion.ipynb\" target=\"_parent\"><img src=\"https://colab.research.google.com/assets/colab-badge.svg\" alt=\"Open In Colab\"/></a>"
      ]
    },
    {
      "cell_type": "markdown",
      "source": [
        "#estructura de repeticion\n",
        "se emplean cuando se desea repetir una parte del codigo, dada una condicion"
      ],
      "metadata": {
        "id": "iVfhCP7olbPO"
      }
    },
    {
      "cell_type": "markdown",
      "source": [
        "##estructura para - for\n",
        "se usa cuando\n",
        " * se sabe **cuantas veces** se repeite una accion\n",
        " * esta compuesta por un contador y una condicion\n",
        " *  **contador**: indetifica cuantas veces se va repetir el bucle y con que frecuencia.\n",
        " * **condicion*: evaluca cuando se frecuencia\n",
        " por deficnicion:\n",
        "\n",
        "\n",
        "```\n",
        "for variable in range (vi, vf+1, paso):\n",
        " aqui se repite parte del codigo.\n",
        "```\n",
        "donde\n",
        "1. vi:condicion inicial. donde arranco a contar\n",
        "2. vf+1: condicion final. donde dejo de contar+1\n",
        "3. paso: frecuencia de conteo\n",
        "\n",
        "for para recorido de listas\n",
        " flor=[\"amapola\",\"rosa\",\"tulipan\",\"orquidia\"]\n",
        "* el para va a iterar tantas veces como elemetos tenga la lista\n",
        "* variable dentro del para, toma como valor, cada elemento de la lista\n",
        "```\n",
        "for variable in list:\n",
        "  variable\n",
        "```\n",
        "\n",
        "\n",
        "  "
      ],
      "metadata": {
        "id": "Zlv2uXmflqPm"
      }
    },
    {
      "cell_type": "code",
      "source": [
        "#creando una lista de nombre de flors\n",
        "flor=[\"amapola\",\"rosa\",\"tulipan\",\"orquidia\"]\n",
        "for rosa in flor:\n",
        "  print(rosa)\n",
        "  if rosa==\"tulipan\":\n",
        "   break#romper la iteración"
      ],
      "metadata": {
        "colab": {
          "base_uri": "https://localhost:8080/"
        },
        "id": "NGiLtfrw0s5S",
        "outputId": "4be8330d-a591-4ac7-c8df-e294ed5660d3"
      },
      "execution_count": null,
      "outputs": [
        {
          "output_type": "stream",
          "name": "stdout",
          "text": [
            "amapola\n",
            "rosa\n",
            "tulipan\n"
          ]
        }
      ]
    },
    {
      "cell_type": "code",
      "source": [
        "nombre=[]\n",
        "for nombres in range(5):\n",
        "  nombre.append(input(\"ingrese su nombre: \"))"
      ],
      "metadata": {
        "colab": {
          "base_uri": "https://localhost:8080/"
        },
        "id": "WLZCREGPRDyP",
        "outputId": "f58c48f3-e2bf-44e8-fa19-abc7b1194c96"
      },
      "execution_count": 6,
      "outputs": [
        {
          "name": "stdout",
          "output_type": "stream",
          "text": [
            "ingrese su nombre: 1\n",
            "ingrese su nombre: 2\n",
            "ingrese su nombre: 3\n",
            "ingrese su nombre: 4\n",
            "ingrese su nombre: 5\n"
          ]
        }
      ]
    },
    {
      "cell_type": "code",
      "source": [
        "nombre"
      ],
      "metadata": {
        "colab": {
          "base_uri": "https://localhost:8080/"
        },
        "id": "4j-p3FkxRsiv",
        "outputId": "5e073d8f-99ff-443b-91f8-ba087d86056f"
      },
      "execution_count": 7,
      "outputs": [
        {
          "output_type": "execute_result",
          "data": {
            "text/plain": [
              "['1', '2', '3', '4', '5']"
            ]
          },
          "metadata": {},
          "execution_count": 7
        }
      ]
    },
    {
      "cell_type": "markdown",
      "source": [
        "##Estructura while\n",
        "* se emplea cuando **NO SE SABE** cuantas veces se debe repetir una accion, pero si se conoce su condicion de parada (CP).\n",
        "* condicion incial: donde arranca el ciclo\n",
        "* condicion final (parada): que indica donde se detiene el ciclo.\n",
        "* modificador de condicion inicial\n",
        "\n",
        "Estructura general de mientas\n",
        "\n",
        "\n",
        "```\n",
        "condicion inicial\n",
        "while (condicion==condicion final):\n",
        "  modificiador de condiocion inicial\n",
        "```\n",
        "Modificadores de condicion inicial\n",
        "* banderas: son booleanos\n",
        "* son preguntas\n",
        "* son contaodres o acumuladores\n",
        "*\n"
      ],
      "metadata": {
        "id": "be66hLoA1wUZ"
      }
    },
    {
      "cell_type": "markdown",
      "source": [
        "##lista\n",
        "* son un conjnto de tipo de datos, **indoxeado**, seperado por comas ,y encerrado entre [].\n",
        "* todo los elementos dentro de una lista, se empienzan a contar desde 0.\n",
        "###creacion de lista\n",
        "* forma general lista=[]\n",
        "* forma manual: animales=[\"gatos\", \"perros\", \"zorro\", \"oso\"]\n",
        "* por conversaion:numeros=list(range(10))\n",
        "* son objetos"
      ],
      "metadata": {
        "id": "65erDAhuwC4u"
      }
    },
    {
      "cell_type": "code",
      "source": [
        "lista=[]"
      ],
      "metadata": {
        "id": "AKMCdOlGxN1d"
      },
      "execution_count": null,
      "outputs": []
    },
    {
      "cell_type": "code",
      "source": [
        "lista=(range(1,8))"
      ],
      "metadata": {
        "id": "MV93CgAnP6kI"
      },
      "execution_count": 12,
      "outputs": []
    },
    {
      "cell_type": "code",
      "source": [
        "lista"
      ],
      "metadata": {
        "colab": {
          "base_uri": "https://localhost:8080/"
        },
        "id": "4EgWkIrAQP4o",
        "outputId": "3df692aa-1bc2-427a-fb65-04316efbeeb2"
      },
      "execution_count": 13,
      "outputs": [
        {
          "output_type": "execute_result",
          "data": {
            "text/plain": [
              "range(1, 8)"
            ]
          },
          "metadata": {},
          "execution_count": 13
        }
      ]
    },
    {
      "cell_type": "code",
      "source": [
        "list.count()"
      ],
      "metadata": {
        "id": "8uSta7b1PsSx"
      },
      "execution_count": null,
      "outputs": []
    },
    {
      "cell_type": "code",
      "source": [
        "type(lista)"
      ],
      "metadata": {
        "colab": {
          "base_uri": "https://localhost:8080/"
        },
        "id": "3gCoPWkAxPSF",
        "outputId": "00d06a09-9e55-4421-84e9-1969064df4e4"
      },
      "execution_count": 14,
      "outputs": [
        {
          "output_type": "execute_result",
          "data": {
            "text/plain": [
              "range"
            ]
          },
          "metadata": {},
          "execution_count": 14
        }
      ]
    },
    {
      "cell_type": "code",
      "source": [
        "zorro=(1,2,3,4)\n",
        "animales=[\"gatos\", \"perros\", zorro, \"oso\"]\n",
        "animales"
      ],
      "metadata": {
        "colab": {
          "base_uri": "https://localhost:8080/"
        },
        "id": "rSsXDwjtxtBU",
        "outputId": "575a13a0-9af4-4090-bbe1-e76804e519d4"
      },
      "execution_count": null,
      "outputs": [
        {
          "output_type": "execute_result",
          "data": {
            "text/plain": [
              "['gatos', 'perros', (1, 2, 3, 4), 'oso']"
            ]
          },
          "metadata": {},
          "execution_count": 2
        }
      ]
    },
    {
      "cell_type": "code",
      "source": [
        "type(zorro)"
      ],
      "metadata": {
        "colab": {
          "base_uri": "https://localhost:8080/"
        },
        "id": "Q3x8WAVgyAMc",
        "outputId": "41369457-bb8b-406c-c1b7-8dd1093740c8"
      },
      "execution_count": null,
      "outputs": [
        {
          "output_type": "execute_result",
          "data": {
            "text/plain": [
              "tuple"
            ]
          },
          "metadata": {},
          "execution_count": 3
        }
      ]
    },
    {
      "cell_type": "code",
      "source": [
        "numero=list(range(10))\n",
        "numero"
      ],
      "metadata": {
        "colab": {
          "base_uri": "https://localhost:8080/"
        },
        "id": "10UO1ixCzCV0",
        "outputId": "9a292091-b2ef-4795-c7c0-af50a90077c6"
      },
      "execution_count": null,
      "outputs": [
        {
          "output_type": "execute_result",
          "data": {
            "text/plain": [
              "[0, 1, 2, 3, 4, 5, 6, 7, 8, 9, 10, 11, 12, 13, 14]"
            ]
          },
          "metadata": {},
          "execution_count": 6
        }
      ]
    },
    {
      "cell_type": "code",
      "source": [
        "range(10)"
      ],
      "metadata": {
        "colab": {
          "base_uri": "https://localhost:8080/"
        },
        "id": "-tfiXldVzIJz",
        "outputId": "7a6b57ce-b7dd-491d-aaba-d477a48b85c3"
      },
      "execution_count": null,
      "outputs": [
        {
          "output_type": "execute_result",
          "data": {
            "text/plain": [
              "range(0, 10)"
            ]
          },
          "metadata": {},
          "execution_count": 11
        }
      ]
    },
    {
      "cell_type": "code",
      "source": [
        "type(range(10))"
      ],
      "metadata": {
        "colab": {
          "base_uri": "https://localhost:8080/"
        },
        "id": "UMrAUCoezQ5r",
        "outputId": "352c5ae6-9e74-49ba-8e87-925534e901fe"
      },
      "execution_count": null,
      "outputs": [
        {
          "output_type": "execute_result",
          "data": {
            "text/plain": [
              "range"
            ]
          },
          "metadata": {},
          "execution_count": 7
        }
      ]
    },
    {
      "cell_type": "markdown",
      "source": [
        "#Prueba diagnostia parte 2"
      ],
      "metadata": {
        "id": "DwAtULLHUvDE"
      }
    },
    {
      "cell_type": "code",
      "source": [
        "numero=list(range(1,11))\n",
        "numero"
      ],
      "metadata": {
        "colab": {
          "base_uri": "https://localhost:8080/"
        },
        "collapsed": true,
        "id": "P7-H2pxQUkft",
        "outputId": "c12f5362-36cd-42c7-ae78-262ef09ba18e"
      },
      "execution_count": 55,
      "outputs": [
        {
          "output_type": "execute_result",
          "data": {
            "text/plain": [
              "[1, 2, 3, 4, 5, 6, 7, 8, 9, 10]"
            ]
          },
          "metadata": {},
          "execution_count": 55
        }
      ]
    },
    {
      "cell_type": "markdown",
      "source": [
        "1.2"
      ],
      "metadata": {
        "id": "eMGKGFOOYurg"
      }
    },
    {
      "cell_type": "code",
      "source": [
        "num=[1,2,3,4,5,6,7,8,9,10]\n",
        "for numero in num :\n",
        "  print(numero)"
      ],
      "metadata": {
        "colab": {
          "base_uri": "https://localhost:8080/"
        },
        "id": "BwkQkHsaYwSw",
        "outputId": "8b6edf28-4f8f-4cac-983e-b59dc8933705"
      },
      "execution_count": 9,
      "outputs": [
        {
          "output_type": "stream",
          "name": "stdout",
          "text": [
            "1\n",
            "2\n",
            "3\n",
            "4\n",
            "5\n",
            "6\n",
            "7\n",
            "8\n",
            "9\n",
            "10\n"
          ]
        }
      ]
    },
    {
      "cell_type": "markdown",
      "source": [
        "2.1"
      ],
      "metadata": {
        "id": "qEsOyc_BZcx_"
      }
    },
    {
      "cell_type": "code",
      "source": [
        "numero=list(range(1,101))\n",
        "suma = sum(numero)\n",
        "suma"
      ],
      "metadata": {
        "colab": {
          "base_uri": "https://localhost:8080/"
        },
        "id": "i1OhreHgdRLU",
        "outputId": "4db272a8-de0a-4c58-f511-06c9958504f9"
      },
      "execution_count": 10,
      "outputs": [
        {
          "output_type": "execute_result",
          "data": {
            "text/plain": [
              "5050"
            ]
          },
          "metadata": {},
          "execution_count": 10
        }
      ]
    },
    {
      "cell_type": "code",
      "source": [
        "suma = 0\n",
        "numero=list(range(101))\n",
        "for numero in numero :\n",
        " suma+=numero\n",
        "   print(suma)"
      ],
      "metadata": {
        "colab": {
          "base_uri": "https://localhost:8080/",
          "height": 110
        },
        "id": "_VmwiVAiZVFw",
        "outputId": "34aefc93-e897-41a4-caf2-23bce47b3d2f"
      },
      "execution_count": 7,
      "outputs": [
        {
          "output_type": "error",
          "ename": "IndentationError",
          "evalue": "unexpected indent (ipython-input-1218248455.py, line 5)",
          "traceback": [
            "\u001b[0;36m  File \u001b[0;32m\"/tmp/ipython-input-1218248455.py\"\u001b[0;36m, line \u001b[0;32m5\u001b[0m\n\u001b[0;31m    print(suma)\u001b[0m\n\u001b[0m    ^\u001b[0m\n\u001b[0;31mIndentationError\u001b[0m\u001b[0;31m:\u001b[0m unexpected indent\n"
          ]
        }
      ]
    },
    {
      "cell_type": "markdown",
      "source": [
        "3.1"
      ],
      "metadata": {
        "id": "wDoLL99tdlrk"
      }
    },
    {
      "cell_type": "code",
      "source": [
        "for numero in range(1, 31):\n",
        " if numero %3 ==0 :\n",
        "   print(numero)"
      ],
      "metadata": {
        "colab": {
          "base_uri": "https://localhost:8080/"
        },
        "id": "ZRw1qOygdnE8",
        "outputId": "df178660-3d04-4ca7-84d6-081be5762fd1"
      },
      "execution_count": 2,
      "outputs": [
        {
          "output_type": "stream",
          "name": "stdout",
          "text": [
            "3\n",
            "6\n",
            "9\n",
            "12\n",
            "15\n",
            "18\n",
            "21\n",
            "24\n",
            "27\n",
            "30\n"
          ]
        }
      ]
    },
    {
      "cell_type": "code",
      "source": [
        "numero=int(input(\"ingresa un numero: \"))\n",
        "for x in range(1,11):\n",
        "  print(numero, \"x\", x, \"=\", numero*x)"
      ],
      "metadata": {
        "colab": {
          "base_uri": "https://localhost:8080/"
        },
        "id": "ZvZ5mwv_gOES",
        "outputId": "eef2245a-0144-45da-bcc6-91f9f33aaf68"
      },
      "execution_count": 3,
      "outputs": [
        {
          "output_type": "stream",
          "name": "stdout",
          "text": [
            "ingresa un numero: )5\n",
            "5 x 1 = 5\n",
            "5 x 2 = 10\n",
            "5 x 3 = 15\n",
            "5 x 4 = 20\n",
            "5 x 5 = 25\n",
            "5 x 6 = 30\n",
            "5 x 7 = 35\n",
            "5 x 8 = 40\n",
            "5 x 9 = 45\n",
            "5 x 10 = 50\n"
          ]
        }
      ]
    }
  ]
}