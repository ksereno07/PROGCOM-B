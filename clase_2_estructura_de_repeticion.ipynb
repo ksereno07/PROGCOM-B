{
  "nbformat": 4,
  "nbformat_minor": 0,
  "metadata": {
    "colab": {
      "provenance": [],
      "authorship_tag": "ABX9TyNQFir6DvodmlHFcB1D1zkA",
      "include_colab_link": true
    },
    "kernelspec": {
      "name": "python3",
      "display_name": "Python 3"
    },
    "language_info": {
      "name": "python"
    }
  },
  "cells": [
    {
      "cell_type": "markdown",
      "metadata": {
        "id": "view-in-github",
        "colab_type": "text"
      },
      "source": [
        "<a href=\"https://colab.research.google.com/github/ksereno07/PROGCOM-B/blob/main/clase_2_estructura_de_repeticion.ipynb\" target=\"_parent\"><img src=\"https://colab.research.google.com/assets/colab-badge.svg\" alt=\"Open In Colab\"/></a>"
      ]
    },
    {
      "cell_type": "markdown",
      "source": [
        "#estructura de repeticion\n",
        "se emplean cuando se desea repetir una parte del codigo, dada una condicion"
      ],
      "metadata": {
        "id": "iVfhCP7olbPO"
      }
    },
    {
      "cell_type": "markdown",
      "source": [
        "##estructura para - for\n",
        "se usa cuando\n",
        " * se sabe **cuantas veces** se repeite una accion\n",
        " * esta compuesta por un contador y una condicion\n",
        " *  **contador**: indetifica cuantas veces se va repetir el bucle y con que frecuencia.\n",
        " * **condicion*: evaluca cuando se frecuencia\n",
        " por deficnicion:\n",
        "\n",
        "\n",
        "```\n",
        "for variable in range (vi, vf+1, paso):\n",
        " aqui se repite parte del codigo.\n",
        "```\n",
        "donde\n",
        "1. vi:condicion inicial. donde arranco a contar\n",
        "2. vf+1: condicion final. donde dejo de contar+1\n",
        "3. paso: frecuencia de conteo\n",
        "\n",
        "for para recorido de listas\n",
        " flor=[\"amapola\",\"rosa\",\"tulipan\",\"orquidia\"]\n",
        "* el para va a iterar tantas veces como elemetos tenga la lista\n",
        "* variable dentro del para, toma como valor, cada elemento de la lista\n",
        "```\n",
        "for variable in list:\n",
        "  variable\n",
        "```\n",
        "\n",
        "\n",
        "  "
      ],
      "metadata": {
        "id": "Zlv2uXmflqPm"
      }
    },
    {
      "cell_type": "code",
      "source": [
        "#creando una lista de nombre de flors\n",
        "flor=[\"amapola\",\"rosa\",\"tulipan\",\"orquidia\"]\n",
        "for rosa in flor:\n",
        "  print(rosa)\n",
        "  if rosa==\"tulipan\":\n",
        "   break"
      ],
      "metadata": {
        "colab": {
          "base_uri": "https://localhost:8080/"
        },
        "id": "NGiLtfrw0s5S",
        "outputId": "4be8330d-a591-4ac7-c8df-e294ed5660d3"
      },
      "execution_count": null,
      "outputs": [
        {
          "output_type": "stream",
          "name": "stdout",
          "text": [
            "amapola\n",
            "rosa\n",
            "tulipan\n"
          ]
        }
      ]
    },
    {
      "cell_type": "markdown",
      "source": [
        "##Estructura while\n",
        "* se emplea cuando **NO SE SABE** cuantas veces se debe repetir una accion, pero si se conoce su condicion de parada (CP).\n",
        "* condicion incial: donde arranca el ciclo\n",
        "* condicion final (parada): que indica donde se detiene el ciclo.\n",
        "* modificador de condicion inicial\n",
        "\n",
        "Estructura general de mientas\n",
        "\n",
        "\n",
        "```\n",
        "condicion inicial\n",
        "while (condicion==condicion final):\n",
        "  modificiador de condiocion inicial\n",
        "```\n",
        "Modificadores de condicion inicial\n",
        "* banderas: son booleanos\n",
        "* son preguntas\n",
        "* son contaodres o acumuladores\n",
        "*\n"
      ],
      "metadata": {
        "id": "be66hLoA1wUZ"
      }
    },
    {
      "cell_type": "markdown",
      "source": [
        "##lista\n",
        "* son un conjnto de tipo de datos, **indoxeado**, seperado por comas ,y encerrado entre [].\n",
        "* todo los elementos dentro de una lista, se empienzan a contar desde 0.\n",
        "###creacion de lista\n",
        "* forma general lista=[]\n",
        "* forma manual: animales=[\"gatos\", \"perros\", \"zorro\", \"oso\"]\n",
        "* por conversaion:"
      ],
      "metadata": {
        "id": "65erDAhuwC4u"
      }
    },
    {
      "cell_type": "code",
      "source": [
        "lista=[]"
      ],
      "metadata": {
        "id": "AKMCdOlGxN1d"
      },
      "execution_count": null,
      "outputs": []
    },
    {
      "cell_type": "code",
      "source": [
        "type(lista)"
      ],
      "metadata": {
        "colab": {
          "base_uri": "https://localhost:8080/",
          "height": 141
        },
        "id": "3gCoPWkAxPSF",
        "outputId": "30a634b2-09ae-4cc0-ca8a-0b69f5984405"
      },
      "execution_count": null,
      "outputs": [
        {
          "output_type": "error",
          "ename": "NameError",
          "evalue": "name 'lista' is not defined",
          "traceback": [
            "\u001b[0;31m---------------------------------------------------------------------------\u001b[0m",
            "\u001b[0;31mNameError\u001b[0m                                 Traceback (most recent call last)",
            "\u001b[0;32m/tmp/ipython-input-1408409123.py\u001b[0m in \u001b[0;36m<cell line: 0>\u001b[0;34m()\u001b[0m\n\u001b[0;32m----> 1\u001b[0;31m \u001b[0mtype\u001b[0m\u001b[0;34m(\u001b[0m\u001b[0mlista\u001b[0m\u001b[0;34m)\u001b[0m\u001b[0;34m\u001b[0m\u001b[0;34m\u001b[0m\u001b[0m\n\u001b[0m",
            "\u001b[0;31mNameError\u001b[0m: name 'lista' is not defined"
          ]
        }
      ]
    },
    {
      "cell_type": "code",
      "source": [
        "zorro=(1,2,3,4)\n",
        "animales=[\"gatos\", \"perros\", zorro, \"oso\"]\n",
        "animales"
      ],
      "metadata": {
        "colab": {
          "base_uri": "https://localhost:8080/"
        },
        "id": "rSsXDwjtxtBU",
        "outputId": "575a13a0-9af4-4090-bbe1-e76804e519d4"
      },
      "execution_count": null,
      "outputs": [
        {
          "output_type": "execute_result",
          "data": {
            "text/plain": [
              "['gatos', 'perros', (1, 2, 3, 4), 'oso']"
            ]
          },
          "metadata": {},
          "execution_count": 2
        }
      ]
    },
    {
      "cell_type": "code",
      "source": [
        "type(zorro)"
      ],
      "metadata": {
        "colab": {
          "base_uri": "https://localhost:8080/"
        },
        "id": "Q3x8WAVgyAMc",
        "outputId": "41369457-bb8b-406c-c1b7-8dd1093740c8"
      },
      "execution_count": null,
      "outputs": [
        {
          "output_type": "execute_result",
          "data": {
            "text/plain": [
              "tuple"
            ]
          },
          "metadata": {},
          "execution_count": 3
        }
      ]
    },
    {
      "cell_type": "code",
      "source": [
        "numero=list(range(10))\n",
        "numero"
      ],
      "metadata": {
        "colab": {
          "base_uri": "https://localhost:8080/"
        },
        "id": "10UO1ixCzCV0",
        "outputId": "9a292091-b2ef-4795-c7c0-af50a90077c6"
      },
      "execution_count": null,
      "outputs": [
        {
          "output_type": "execute_result",
          "data": {
            "text/plain": [
              "[0, 1, 2, 3, 4, 5, 6, 7, 8, 9, 10, 11, 12, 13, 14]"
            ]
          },
          "metadata": {},
          "execution_count": 6
        }
      ]
    },
    {
      "cell_type": "code",
      "source": [
        "range(10)"
      ],
      "metadata": {
        "colab": {
          "base_uri": "https://localhost:8080/"
        },
        "id": "-tfiXldVzIJz",
        "outputId": "7a6b57ce-b7dd-491d-aaba-d477a48b85c3"
      },
      "execution_count": null,
      "outputs": [
        {
          "output_type": "execute_result",
          "data": {
            "text/plain": [
              "range(0, 10)"
            ]
          },
          "metadata": {},
          "execution_count": 11
        }
      ]
    },
    {
      "cell_type": "code",
      "source": [
        "type(range(10))"
      ],
      "metadata": {
        "colab": {
          "base_uri": "https://localhost:8080/"
        },
        "id": "UMrAUCoezQ5r",
        "outputId": "352c5ae6-9e74-49ba-8e87-925534e901fe"
      },
      "execution_count": null,
      "outputs": [
        {
          "output_type": "execute_result",
          "data": {
            "text/plain": [
              "range"
            ]
          },
          "metadata": {},
          "execution_count": 7
        }
      ]
    }
  ]
}